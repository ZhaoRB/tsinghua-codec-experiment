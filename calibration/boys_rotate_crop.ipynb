{
 "cells": [
  {
   "cell_type": "code",
   "execution_count": null,
   "metadata": {},
   "outputs": [],
   "source": [
    "import os\n",
    "\n",
    "import cv2\n",
    "import numpy as np\n",
    "from center.cal_center import calculateAllCenters\n",
    "from center.draw_center import drawCenters\n",
    "from parse_xml.parse import parseCalibXmlFile\n",
    "from rotateAndCrop.rotate import rotate\n",
    "\n",
    "# - set path\n",
    "projectPath = \"/home/zrb/project/tsinghua-codec-experiment\"\n",
    "name = \"boys\"\n",
    "seq_name = \"boys_fix_color\"\n",
    "\n",
    "calibrationFilePath = os.path.join(projectPath, f\"./cfg/test/{name}.xml\")\n",
    "inputPath = os.path.join(projectPath, f\"./data/sample/{seq_name}.bmp\")\n",
    "image = cv2.imread(inputPath)\n",
    "\n",
    "# output path\n",
    "cornerCenterPath = os.path.join(\n",
    "    projectPath, f\"./data/corner-center/{seq_name}.png\"\n",
    ")\n",
    "allCenterPath = os.path.join(projectPath, f\"./data/all-center/{seq_name}.png\")"
   ]
  },
  {
   "cell_type": "code",
   "execution_count": null,
   "metadata": {},
   "outputs": [],
   "source": [
    "# - parse calibration file and calulate center points\n",
    "calibInfo = parseCalibXmlFile(calibrationFilePath)\n",
    "print(calibInfo)\n",
    "\n",
    "# - draw\n",
    "drawCenters(\n",
    "    image.copy(),\n",
    "    np.array([calibInfo.ltop, calibInfo.rtop, calibInfo.lbot, calibInfo.rbot]),\n",
    "    calibInfo.diameter,\n",
    "    cornerCenterPath,\n",
    ")"
   ]
  }
 ],
 "metadata": {
  "kernelspec": {
   "display_name": "base",
   "language": "python",
   "name": "python3"
  },
  "language_info": {
   "name": "python",
   "version": "3.12.4"
  }
 },
 "nbformat": 4,
 "nbformat_minor": 2
}
