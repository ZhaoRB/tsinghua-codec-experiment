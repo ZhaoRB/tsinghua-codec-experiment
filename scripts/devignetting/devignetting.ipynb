{
 "cells": [
  {
   "cell_type": "code",
   "execution_count": null,
   "metadata": {},
   "outputs": [],
   "source": [
    "import numpy as np\n",
    "import os\n",
    "import cv2\n",
    "\n",
    "import xml.etree.ElementTree as ET\n",
    "\n",
    "colNum, rowNum = 66, 43\n",
    "diameter = 70\n",
    "centerMapPath = \"\"\n",
    "inputFolder = \"\"\n",
    "outputFolder = \"\"\n",
    "namePattern = \"\"\n",
    "\n",
    "def devignetting():\n",
    "    "
   ]
  }
 ],
 "metadata": {
  "kernelspec": {
   "display_name": "py39_pytorch",
   "language": "python",
   "name": "python3"
  },
  "language_info": {
   "name": "python",
   "version": "3.9.15"
  }
 },
 "nbformat": 4,
 "nbformat_minor": 2
}
