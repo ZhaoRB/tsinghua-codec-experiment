{
 "cells": [
  {
   "cell_type": "markdown",
   "metadata": {},
   "source": [
    "# center 分析\n"
   ]
  },
  {
   "cell_type": "code",
   "execution_count": 5,
   "metadata": {},
   "outputs": [
    {
     "name": "stdout",
     "output_type": "stream",
     "text": [
      "(3068, 4080, 3) 4080\n"
     ]
    }
   ],
   "source": [
    "import os\n",
    "import xml.etree.ElementTree as ET\n",
    "\n",
    "import cv2\n",
    "import numpy as np\n",
    "import math\n",
    "\n",
    "\n",
    "projectPath = \"/Users/riverzhao/Project/Codec/0_lvc_codec/Inter-MCA\"\n",
    "\n",
    "calibrationFilePath = os.path.join(projectPath, \"./config/new-seq/tlct.xml\")\n",
    "imageFilePath = os.path.join(projectPath, \"./data/raw/miniGarden.bmp\")\n",
    "image = cv2.imread(imageFilePath)\n",
    "\n",
    "tree = ET.parse(calibrationFilePath)\n",
    "root = tree.getroot()\n",
    "\n",
    "diameterNode = root.find(\"diameter\")\n",
    "diameter = int(diameterNode.text)\n",
    "centersNode = root.find(\"centers\")\n",
    "rowNode = centersNode.find(\"rows\")\n",
    "rowNum = int(rowNode.text)\n",
    "colNode = centersNode.find(\"cols\")\n",
    "colNum = int(colNode.text)\n",
    "\n",
    "# keys = [\"ltop\", \"rtop\", \"lbot\"]\n",
    "# centerPoints = {}\n",
    "# for key in keys:\n",
    "#     x = float(centersNode.find(key).find(\"x\").text)\n",
    "#     y = float(centersNode.find(key).find(\"y\").text)\n",
    "#     centerPoints[key] - (x, y)"
   ]
  },
  {
   "cell_type": "markdown",
   "metadata": {},
   "source": [
    "## 计算所有的中心点"
   ]
  },
  {
   "cell_type": "code",
   "execution_count": 6,
   "metadata": {},
   "outputs": [
    {
     "name": "stdout",
     "output_type": "stream",
     "text": [
      "[4006.75   70.75]\n",
      "[105.87177826  72.5       ]\n",
      "colGap [ 1.21902444e+02 -5.46875000e-02]\n",
      "rowGap [-2.38095238e-02  7.04583333e+01]\n"
     ]
    }
   ],
   "source": [
    "# 创建一个numpy数组存储所有的center points\n",
    "allCenterPoints = np.zeros((rowNum, colNum, 2))\n",
    "\n",
    "allCenterPoints[0, 0, 0] = float(centersNode.find(\"ltop\").find(\"x\").text)\n",
    "allCenterPoints[0, 0, 1] = float(centersNode.find(\"ltop\").find(\"y\").text)\n",
    "\n",
    "allCenterPoints[0, colNum - 1, 0] = float(centersNode.find(\"rtop\").find(\"x\").text)\n",
    "allCenterPoints[0, colNum - 1, 1] = float(centersNode.find(\"rtop\").find(\"y\").text)\n",
    "\n",
    "allCenterPoints[rowNum - 1, 0, 0] = float(centersNode.find(\"lbot\").find(\"x\").text)\n",
    "allCenterPoints[rowNum - 1, 0, 1] = float(centersNode.find(\"lbot\").find(\"y\").text)\n",
    "\n",
    "xBias = diameter / 2 * math.sqrt(3)\n",
    "yBias = diameter / 2\n",
    "\n",
    "allCenterPoints[0, 1, 0] = allCenterPoints[0, 0, 0] +  xBias\n",
    "allCenterPoints[0, 1, 1] = allCenterPoints[0, 0, 1] +  yBias\n",
    "\n",
    "ltop = allCenterPoints[0, 0, :]\n",
    "lbot = allCenterPoints[rowNum - 1, 0, :]\n",
    "ltopOdd = allCenterPoints[0, 1, :]\n",
    "rtop = allCenterPoints[0, colNum - 1, :]\n",
    "\n",
    "print(rtop)\n",
    "print(ltopOdd)\n",
    "colGap = (rtop - ltopOdd) / (colNum / 2 - 1)\n",
    "rowGap = (lbot - ltop) / (rowNum - 1)\n",
    "\n",
    "print(\"colGap\", colGap)\n",
    "print(\"rowGap\", rowGap)\n",
    "\n",
    "for i in range(int(colNum - 3)):\n",
    "    allCenterPoints[0, i + 2, :] = allCenterPoints[0, i, :] + colGap\n",
    "\n",
    "for r in range(int(rowNum - 1)):\n",
    "    for c in range(int(colNum)):\n",
    "        allCenterPoints[r + 1, c, :] = allCenterPoints[r, c, :] + rowGap\n",
    "\n",
    "# np.save('centerPoints.npy', allCenterPoints)"
   ]
  },
  {
   "cell_type": "markdown",
   "metadata": {},
   "source": [
    "## 画圆"
   ]
  },
  {
   "cell_type": "code",
   "execution_count": 7,
   "metadata": {},
   "outputs": [],
   "source": [
    "image_copy = image.copy()\n",
    "\n",
    "for row in allCenterPoints:\n",
    "    for point in row:\n",
    "        center = (round(point[0]), round(point[1]))\n",
    "        color = (0, 0, 255)\n",
    "        cv2.circle(image_copy, center, diameter // 2, color, 2)\n",
    "\n",
    "output_path = os.path.join(projectPath, \"./data/center/new-seq/all_center_miniGarden.png\")\n",
    "cv2.imwrite(output_path, image_copy)\n",
    "\n",
    "del image_copy\n"
   ]
  },
  {
   "cell_type": "markdown",
   "metadata": {},
   "source": [
    "## Crop"
   ]
  },
  {
   "cell_type": "code",
   "execution_count": 8,
   "metadata": {},
   "outputs": [],
   "source": [
    "# radius = int(diameter / 2 / math.sqrt(2))\n",
    "# image_height = image.shape[0]\n",
    "# image_width = image.shape[1]\n",
    "\n",
    "# image_copy = image.copy()\n",
    "# for row in allCenterPoints:\n",
    "#     for point in row:\n",
    "#         x_center, y_center = round(point[0]), round(point[1])\n",
    "        \n",
    "#         # 计算正方形区域的边界\n",
    "#         x_start = max(x_center - radius, 0)\n",
    "#         x_end = min(x_center + radius, image_width)\n",
    "#         y_start = max(y_center - radius, 0)\n",
    "#         y_end = min(y_center + radius, image_height)\n",
    "        \n",
    "#         # 将正方形区域内的像素置为 0\n",
    "#         image[y_start:y_end, x_start:x_end, :] = 0\n",
    "\n",
    "#         top_left = (x_start, y_start)\n",
    "#         bottom_right = (x_end, y_end)\n",
    "#         cv2.rectangle(image_copy, top_left, bottom_right, color, 2)\n",
    "\n",
    "# output_path = os.path.join(projectPath, \"./data/center/mask_cars1.png\")\n",
    "# cv2.imwrite(output_path, image)\n",
    "\n",
    "# del image_copy"
   ]
  }
 ],
 "metadata": {
  "kernelspec": {
   "display_name": "py39_pytorch",
   "language": "python",
   "name": "python3"
  },
  "language_info": {
   "codemirror_mode": {
    "name": "ipython",
    "version": 3
   },
   "file_extension": ".py",
   "mimetype": "text/x-python",
   "name": "python",
   "nbconvert_exporter": "python",
   "pygments_lexer": "ipython3",
   "version": "3.9.15"
  }
 },
 "nbformat": 4,
 "nbformat_minor": 2
}
